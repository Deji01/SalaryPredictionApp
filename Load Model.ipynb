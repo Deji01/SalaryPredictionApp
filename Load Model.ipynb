{
 "cells": [
  {
   "cell_type": "code",
   "execution_count": 1,
   "id": "089e53f4",
   "metadata": {},
   "outputs": [],
   "source": [
    "import pandas as pd \n",
    "import pickle"
   ]
  },
  {
   "cell_type": "code",
   "execution_count": 2,
   "id": "01d96310",
   "metadata": {},
   "outputs": [],
   "source": [
    "with open('saved_steps.pkl', 'rb') as file:\n",
    "    data = pickle.load(file)"
   ]
  },
  {
   "cell_type": "code",
   "execution_count": 3,
   "id": "df852c2a",
   "metadata": {},
   "outputs": [],
   "source": [
    "model = data['model']\n",
    "edu_dict = data['edu_dict']\n",
    "code_dict = data['code_dict']\n",
    "company_dict = data['company_dict']\n",
    "employees_dict = data['employees_dict']\n",
    "label_encoder = data['label_encoder']\n",
    "numeric_cols = data['numeric_cols']\n",
    "categorical_cols = data['categorical_cols']\n",
    "onehot_encoder = data['onehot_encoder']\n",
    "scaler = data['scaler']"
   ]
  },
  {
   "cell_type": "code",
   "execution_count": 55,
   "id": "a3416b37",
   "metadata": {},
   "outputs": [
    {
     "data": {
      "text/plain": [
       "Index(['Age Group', 'Gender', 'Country', 'Education Level', 'Recent Job Title',\n",
       "       'Coding Experience', 'Industry', 'Company Size', 'Num Language',\n",
       "       'Average Annual Salary ($USD)'],\n",
       "      dtype='object')"
      ]
     },
     "execution_count": 55,
     "metadata": {},
     "output_type": "execute_result"
    }
   ],
   "source": [
    "df = pd.read_csv('data.csv')\n",
    "df.columns"
   ]
  },
  {
   "cell_type": "code",
   "execution_count": 6,
   "id": "eb15bfb7",
   "metadata": {
    "scrolled": true
   },
   "outputs": [
    {
     "data": {
      "text/html": [
       "<div>\n",
       "<style scoped>\n",
       "    .dataframe tbody tr th:only-of-type {\n",
       "        vertical-align: middle;\n",
       "    }\n",
       "\n",
       "    .dataframe tbody tr th {\n",
       "        vertical-align: top;\n",
       "    }\n",
       "\n",
       "    .dataframe thead th {\n",
       "        text-align: right;\n",
       "    }\n",
       "</style>\n",
       "<table border=\"1\" class=\"dataframe\">\n",
       "  <thead>\n",
       "    <tr style=\"text-align: right;\">\n",
       "      <th></th>\n",
       "      <th>Age Group</th>\n",
       "      <th>Gender</th>\n",
       "      <th>Country</th>\n",
       "      <th>Education Level</th>\n",
       "      <th>Recent Job Title</th>\n",
       "      <th>Coding Experience</th>\n",
       "      <th>Industry</th>\n",
       "      <th>Company Size</th>\n",
       "      <th>Num Language</th>\n",
       "      <th>Average Annual Salary ($USD)</th>\n",
       "    </tr>\n",
       "  </thead>\n",
       "  <tbody>\n",
       "    <tr>\n",
       "      <th>0</th>\n",
       "      <td>50-54</td>\n",
       "      <td>Man</td>\n",
       "      <td>India</td>\n",
       "      <td>Bachelor’s degree</td>\n",
       "      <td>Other</td>\n",
       "      <td>5-10</td>\n",
       "      <td>Manufacturing/Fabrication</td>\n",
       "      <td>50-249</td>\n",
       "      <td>2</td>\n",
       "      <td>27499.5</td>\n",
       "    </tr>\n",
       "    <tr>\n",
       "      <th>1</th>\n",
       "      <td>50-54</td>\n",
       "      <td>Man</td>\n",
       "      <td>Indonesia</td>\n",
       "      <td>Master’s degree</td>\n",
       "      <td>Program/Project Manager</td>\n",
       "      <td>20+</td>\n",
       "      <td>Manufacturing/Fabrication</td>\n",
       "      <td>1000-9,999</td>\n",
       "      <td>4</td>\n",
       "      <td>64999.5</td>\n",
       "    </tr>\n",
       "    <tr>\n",
       "      <th>2</th>\n",
       "      <td>22-24</td>\n",
       "      <td>Man</td>\n",
       "      <td>Pakistan</td>\n",
       "      <td>Master’s degree</td>\n",
       "      <td>Software Engineer</td>\n",
       "      <td>1-3</td>\n",
       "      <td>Academics/Education</td>\n",
       "      <td>1000-9,999</td>\n",
       "      <td>3</td>\n",
       "      <td>499.5</td>\n",
       "    </tr>\n",
       "    <tr>\n",
       "      <th>3</th>\n",
       "      <td>45-49</td>\n",
       "      <td>Man</td>\n",
       "      <td>Mexico</td>\n",
       "      <td>Doctoral degree</td>\n",
       "      <td>Research Scientist</td>\n",
       "      <td>20+</td>\n",
       "      <td>Academics/Education</td>\n",
       "      <td>1000-9,999</td>\n",
       "      <td>1</td>\n",
       "      <td>34999.5</td>\n",
       "    </tr>\n",
       "    <tr>\n",
       "      <th>4</th>\n",
       "      <td>45-49</td>\n",
       "      <td>Man</td>\n",
       "      <td>India</td>\n",
       "      <td>Doctoral degree</td>\n",
       "      <td>Other</td>\n",
       "      <td>&lt; 1</td>\n",
       "      <td>Academics/Education</td>\n",
       "      <td>50-249</td>\n",
       "      <td>3</td>\n",
       "      <td>34999.5</td>\n",
       "    </tr>\n",
       "  </tbody>\n",
       "</table>\n",
       "</div>"
      ],
      "text/plain": [
       "  Age Group Gender    Country    Education Level         Recent Job Title  \\\n",
       "0     50-54    Man      India  Bachelor’s degree                    Other   \n",
       "1     50-54    Man  Indonesia    Master’s degree  Program/Project Manager   \n",
       "2     22-24    Man   Pakistan    Master’s degree        Software Engineer   \n",
       "3     45-49    Man     Mexico    Doctoral degree       Research Scientist   \n",
       "4     45-49    Man      India    Doctoral degree                    Other   \n",
       "\n",
       "  Coding Experience                   Industry Company Size  Num Language  \\\n",
       "0             5-10   Manufacturing/Fabrication      50-249              2   \n",
       "1              20+   Manufacturing/Fabrication  1000-9,999              4   \n",
       "2              1-3         Academics/Education  1000-9,999              3   \n",
       "3              20+         Academics/Education  1000-9,999              1   \n",
       "4              < 1         Academics/Education      50-249              3   \n",
       "\n",
       "   Average Annual Salary ($USD)  \n",
       "0                       27499.5  \n",
       "1                       64999.5  \n",
       "2                         499.5  \n",
       "3                       34999.5  \n",
       "4                       34999.5  "
      ]
     },
     "execution_count": 6,
     "metadata": {},
     "output_type": "execute_result"
    }
   ],
   "source": [
    "df.head()"
   ]
  },
  {
   "cell_type": "code",
   "execution_count": 7,
   "id": "4073f81f",
   "metadata": {},
   "outputs": [],
   "source": [
    "data = df.copy()"
   ]
  },
  {
   "cell_type": "code",
   "execution_count": 8,
   "id": "dab1eada",
   "metadata": {},
   "outputs": [
    {
     "data": {
      "text/plain": [
       "array(['50-54', '22-24', '45-49', '30-34', '40-44', '35-39', '18-21',\n",
       "       '70+', '25-29', '55-59', '60-69'], dtype=object)"
      ]
     },
     "execution_count": 8,
     "metadata": {},
     "output_type": "execute_result"
    }
   ],
   "source": [
    "data['Age Group'].unique()"
   ]
  },
  {
   "cell_type": "code",
   "execution_count": 51,
   "id": "7b9ac544",
   "metadata": {},
   "outputs": [
    {
     "data": {
      "text/plain": [
       "array(['Man', 'Woman', 'Nonbinary', 'Prefer not to say',\n",
       "       'Prefer to self-describe'], dtype=object)"
      ]
     },
     "execution_count": 51,
     "metadata": {},
     "output_type": "execute_result"
    }
   ],
   "source": [
    "data['Gender'].unique()"
   ]
  },
  {
   "cell_type": "code",
   "execution_count": 52,
   "id": "6bf9939a",
   "metadata": {},
   "outputs": [
    {
     "data": {
      "text/plain": [
       "['Algeria',\n",
       " 'Argentina',\n",
       " 'Australia',\n",
       " 'Austria',\n",
       " 'Bangladesh',\n",
       " 'Belarus',\n",
       " 'Belgium',\n",
       " 'Brazil',\n",
       " 'Canada',\n",
       " 'Chile',\n",
       " 'China',\n",
       " 'Colombia',\n",
       " 'Czech Republic',\n",
       " 'Denmark',\n",
       " 'Ecuador',\n",
       " 'Egypt',\n",
       " 'Ethiopia',\n",
       " 'France',\n",
       " 'Germany',\n",
       " 'Ghana',\n",
       " 'Greece',\n",
       " 'Hong Kong (S.A.R.)',\n",
       " 'I do not wish to disclose my location',\n",
       " 'India',\n",
       " 'Indonesia',\n",
       " 'Iran, Islamic Republic of...',\n",
       " 'Iraq',\n",
       " 'Ireland',\n",
       " 'Israel',\n",
       " 'Italy',\n",
       " 'Japan',\n",
       " 'Kazakhstan',\n",
       " 'Kenya',\n",
       " 'Malaysia',\n",
       " 'Mexico',\n",
       " 'Morocco',\n",
       " 'Nepal',\n",
       " 'Netherlands',\n",
       " 'Nigeria',\n",
       " 'Norway',\n",
       " 'Other',\n",
       " 'Pakistan',\n",
       " 'Peru',\n",
       " 'Philippines',\n",
       " 'Poland',\n",
       " 'Portugal',\n",
       " 'Romania',\n",
       " 'Russia',\n",
       " 'Saudi Arabia',\n",
       " 'Singapore',\n",
       " 'South Africa',\n",
       " 'South Korea',\n",
       " 'Spain',\n",
       " 'Sri Lanka',\n",
       " 'Sweden',\n",
       " 'Switzerland',\n",
       " 'Taiwan',\n",
       " 'Thailand',\n",
       " 'Tunisia',\n",
       " 'Turkey',\n",
       " 'Uganda',\n",
       " 'Ukraine',\n",
       " 'United Arab Emirates',\n",
       " 'United Kingdom of Great Britain and Northern Ireland',\n",
       " 'United States of America',\n",
       " 'Viet Nam']"
      ]
     },
     "execution_count": 52,
     "metadata": {},
     "output_type": "execute_result"
    }
   ],
   "source": [
    "sorted(list(data['Country'].unique()))"
   ]
  },
  {
   "cell_type": "code",
   "execution_count": 49,
   "id": "5c07b468",
   "metadata": {},
   "outputs": [
    {
     "data": {
      "text/plain": [
       "['Bachelor’s degree',\n",
       " 'Master’s degree',\n",
       " 'Doctoral degree',\n",
       " 'I prefer not to answer',\n",
       " 'Some college/university study without earning a bachelor’s degree',\n",
       " 'No formal education past high school',\n",
       " 'Professional doctorate']"
      ]
     },
     "execution_count": 49,
     "metadata": {},
     "output_type": "execute_result"
    }
   ],
   "source": [
    "list(data['Education Level'].unique())"
   ]
  },
  {
   "cell_type": "code",
   "execution_count": 53,
   "id": "fade4b00",
   "metadata": {},
   "outputs": [
    {
     "data": {
      "text/plain": [
       "['Business Analyst',\n",
       " 'DBA/Database Engineer',\n",
       " 'Data Analyst',\n",
       " 'Data Engineer',\n",
       " 'Data Scientist',\n",
       " 'Developer Relations/Advocacy',\n",
       " 'Machine Learning Engineer',\n",
       " 'Other',\n",
       " 'Product Manager',\n",
       " 'Program/Project Manager',\n",
       " 'Research Scientist',\n",
       " 'Software Engineer',\n",
       " 'Statistician']"
      ]
     },
     "execution_count": 53,
     "metadata": {},
     "output_type": "execute_result"
    }
   ],
   "source": [
    "sorted(list(data['Recent Job Title'].unique()))"
   ]
  },
  {
   "cell_type": "code",
   "execution_count": 13,
   "id": "f86553e8",
   "metadata": {},
   "outputs": [
    {
     "data": {
      "text/plain": [
       "array(['5-10 ', '20+ ', '1-3 ', '< 1 ', '10-20 ', '3-5 ',\n",
       "       'I have never written code'], dtype=object)"
      ]
     },
     "execution_count": 13,
     "metadata": {},
     "output_type": "execute_result"
    }
   ],
   "source": [
    "data['Coding Experience'].unique()"
   ]
  },
  {
   "cell_type": "code",
   "execution_count": 14,
   "id": "994b742d",
   "metadata": {},
   "outputs": [
    {
     "data": {
      "text/plain": [
       "array(['50-249 ', '1000-9,999 ', '10,000 or more ', '0-49 ', '250-999 '],\n",
       "      dtype=object)"
      ]
     },
     "execution_count": 14,
     "metadata": {},
     "output_type": "execute_result"
    }
   ],
   "source": [
    "data['Company Size'].unique()"
   ]
  },
  {
   "cell_type": "code",
   "execution_count": 54,
   "id": "1377b984",
   "metadata": {},
   "outputs": [
    {
     "data": {
      "text/plain": [
       "['Academics/Education',\n",
       " 'Accounting/Finance',\n",
       " 'Broadcasting/Communications',\n",
       " 'Computers/Technology',\n",
       " 'Energy/Mining',\n",
       " 'Government/Public Service',\n",
       " 'Hospitality/Entertainment/Sports',\n",
       " 'Insurance/Risk Assessment',\n",
       " 'Manufacturing/Fabrication',\n",
       " 'Marketing/CRM',\n",
       " 'Medical/Pharmaceutical',\n",
       " 'Military/Security/Defense',\n",
       " 'Non-profit/Service',\n",
       " 'Online Business/Internet-based Sales',\n",
       " 'Online Service/Internet-based Services',\n",
       " 'Other',\n",
       " 'Retail/Sales',\n",
       " 'Shipping/Transportation']"
      ]
     },
     "execution_count": 54,
     "metadata": {},
     "output_type": "execute_result"
    }
   ],
   "source": [
    "sorted(list(data['Industry'].unique()))"
   ]
  },
  {
   "cell_type": "code",
   "execution_count": 19,
   "id": "2177d8ed",
   "metadata": {},
   "outputs": [
    {
     "data": {
      "text/plain": [
       "0    27499.5\n",
       "Name: Average Annual Salary ($USD), dtype: float64"
      ]
     },
     "execution_count": 19,
     "metadata": {},
     "output_type": "execute_result"
    }
   ],
   "source": [
    "y = data.iloc[:1, -1]\n",
    "y"
   ]
  },
  {
   "cell_type": "code",
   "execution_count": 20,
   "id": "e1c0c935",
   "metadata": {},
   "outputs": [
    {
     "data": {
      "text/html": [
       "<div>\n",
       "<style scoped>\n",
       "    .dataframe tbody tr th:only-of-type {\n",
       "        vertical-align: middle;\n",
       "    }\n",
       "\n",
       "    .dataframe tbody tr th {\n",
       "        vertical-align: top;\n",
       "    }\n",
       "\n",
       "    .dataframe thead th {\n",
       "        text-align: right;\n",
       "    }\n",
       "</style>\n",
       "<table border=\"1\" class=\"dataframe\">\n",
       "  <thead>\n",
       "    <tr style=\"text-align: right;\">\n",
       "      <th></th>\n",
       "      <th>Age Group</th>\n",
       "      <th>Gender</th>\n",
       "      <th>Country</th>\n",
       "      <th>Education Level</th>\n",
       "      <th>Recent Job Title</th>\n",
       "      <th>Coding Experience</th>\n",
       "      <th>Industry</th>\n",
       "      <th>Company Size</th>\n",
       "      <th>Num Language</th>\n",
       "    </tr>\n",
       "  </thead>\n",
       "  <tbody>\n",
       "    <tr>\n",
       "      <th>0</th>\n",
       "      <td>50-54</td>\n",
       "      <td>Man</td>\n",
       "      <td>India</td>\n",
       "      <td>Bachelor’s degree</td>\n",
       "      <td>Other</td>\n",
       "      <td>5-10</td>\n",
       "      <td>Manufacturing/Fabrication</td>\n",
       "      <td>50-249</td>\n",
       "      <td>2</td>\n",
       "    </tr>\n",
       "  </tbody>\n",
       "</table>\n",
       "</div>"
      ],
      "text/plain": [
       "  Age Group Gender Country    Education Level Recent Job Title  \\\n",
       "0     50-54    Man   India  Bachelor’s degree            Other   \n",
       "\n",
       "  Coding Experience                   Industry Company Size  Num Language  \n",
       "0             5-10   Manufacturing/Fabrication      50-249              2  "
      ]
     },
     "execution_count": 20,
     "metadata": {},
     "output_type": "execute_result"
    }
   ],
   "source": [
    "X = data.iloc[:1, :-1]\n",
    "X"
   ]
  },
  {
   "cell_type": "code",
   "execution_count": 21,
   "id": "c1773dcd",
   "metadata": {},
   "outputs": [],
   "source": [
    "X['Education Level'] = X['Education Level'].map(edu_dict)\n",
    "X['Coding Experience'] = X['Coding Experience'].map(code_dict)\n",
    "X['Company Size'] = X['Company Size'].map(company_dict)"
   ]
  },
  {
   "cell_type": "code",
   "execution_count": 56,
   "id": "6e65b182",
   "metadata": {},
   "outputs": [
    {
     "data": {
      "text/plain": [
       "0    4\n",
       "Name: Education Level, dtype: int64"
      ]
     },
     "execution_count": 56,
     "metadata": {},
     "output_type": "execute_result"
    }
   ],
   "source": [
    "X.iloc[:, 3]"
   ]
  },
  {
   "cell_type": "code",
   "execution_count": 22,
   "id": "fb8d867a",
   "metadata": {},
   "outputs": [
    {
     "data": {
      "text/html": [
       "<div>\n",
       "<style scoped>\n",
       "    .dataframe tbody tr th:only-of-type {\n",
       "        vertical-align: middle;\n",
       "    }\n",
       "\n",
       "    .dataframe tbody tr th {\n",
       "        vertical-align: top;\n",
       "    }\n",
       "\n",
       "    .dataframe thead th {\n",
       "        text-align: right;\n",
       "    }\n",
       "</style>\n",
       "<table border=\"1\" class=\"dataframe\">\n",
       "  <thead>\n",
       "    <tr style=\"text-align: right;\">\n",
       "      <th></th>\n",
       "      <th>Education Level</th>\n",
       "      <th>Coding Experience</th>\n",
       "      <th>Num Language</th>\n",
       "      <th>Company Size</th>\n",
       "    </tr>\n",
       "  </thead>\n",
       "  <tbody>\n",
       "    <tr>\n",
       "      <th>0</th>\n",
       "      <td>4</td>\n",
       "      <td>5</td>\n",
       "      <td>2</td>\n",
       "      <td>2</td>\n",
       "    </tr>\n",
       "  </tbody>\n",
       "</table>\n",
       "</div>"
      ],
      "text/plain": [
       "   Education Level  Coding Experience  Num Language  Company Size\n",
       "0                4                  5             2             2"
      ]
     },
     "execution_count": 22,
     "metadata": {},
     "output_type": "execute_result"
    }
   ],
   "source": [
    "X[numeric_cols]"
   ]
  },
  {
   "cell_type": "code",
   "execution_count": 23,
   "id": "9c54b601",
   "metadata": {},
   "outputs": [
    {
     "data": {
      "text/html": [
       "<div>\n",
       "<style scoped>\n",
       "    .dataframe tbody tr th:only-of-type {\n",
       "        vertical-align: middle;\n",
       "    }\n",
       "\n",
       "    .dataframe tbody tr th {\n",
       "        vertical-align: top;\n",
       "    }\n",
       "\n",
       "    .dataframe thead th {\n",
       "        text-align: right;\n",
       "    }\n",
       "</style>\n",
       "<table border=\"1\" class=\"dataframe\">\n",
       "  <thead>\n",
       "    <tr style=\"text-align: right;\">\n",
       "      <th></th>\n",
       "      <th>Age Group</th>\n",
       "      <th>Gender</th>\n",
       "      <th>Country</th>\n",
       "      <th>Education Level</th>\n",
       "      <th>Recent Job Title</th>\n",
       "      <th>Coding Experience</th>\n",
       "      <th>Industry</th>\n",
       "      <th>Company Size</th>\n",
       "      <th>Num Language</th>\n",
       "    </tr>\n",
       "  </thead>\n",
       "  <tbody>\n",
       "    <tr>\n",
       "      <th>0</th>\n",
       "      <td>50-54</td>\n",
       "      <td>Man</td>\n",
       "      <td>India</td>\n",
       "      <td>4</td>\n",
       "      <td>Other</td>\n",
       "      <td>5</td>\n",
       "      <td>Manufacturing/Fabrication</td>\n",
       "      <td>2</td>\n",
       "      <td>2</td>\n",
       "    </tr>\n",
       "  </tbody>\n",
       "</table>\n",
       "</div>"
      ],
      "text/plain": [
       "  Age Group Gender Country  Education Level Recent Job Title  \\\n",
       "0     50-54    Man   India                4            Other   \n",
       "\n",
       "   Coding Experience                   Industry  Company Size  Num Language  \n",
       "0                  5  Manufacturing/Fabrication             2             2  "
      ]
     },
     "execution_count": 23,
     "metadata": {},
     "output_type": "execute_result"
    }
   ],
   "source": [
    "X"
   ]
  },
  {
   "cell_type": "code",
   "execution_count": 44,
   "id": "f40e6965",
   "metadata": {},
   "outputs": [
    {
     "data": {
      "text/plain": [
       "array([20696.074], dtype=float32)"
      ]
     },
     "execution_count": 44,
     "metadata": {},
     "output_type": "execute_result"
    }
   ],
   "source": [
    "y_pred = model.predict(X)\n",
    "y_pred"
   ]
  },
  {
   "cell_type": "code",
   "execution_count": 46,
   "id": "9e3800b9",
   "metadata": {},
   "outputs": [
    {
     "data": {
      "text/plain": [
       "6803.42578125"
      ]
     },
     "execution_count": 46,
     "metadata": {},
     "output_type": "execute_result"
    }
   ],
   "source": [
    "error = (y - y_pred)[0]\n",
    "error"
   ]
  },
  {
   "cell_type": "code",
   "execution_count": 57,
   "id": "654f3cae",
   "metadata": {},
   "outputs": [
    {
     "name": "stdout",
     "output_type": "stream",
     "text": [
      "Error : $6,803.43\n"
     ]
    }
   ],
   "source": [
    "print(f'Error : ${error :,.02f}')"
   ]
  },
  {
   "cell_type": "code",
   "execution_count": 58,
   "id": "370d3587",
   "metadata": {},
   "outputs": [],
   "source": [
    "import numpy as np"
   ]
  },
  {
   "cell_type": "code",
   "execution_count": 59,
   "id": "7f74bbc2",
   "metadata": {},
   "outputs": [
    {
     "data": {
      "text/plain": [
       "array([[1, 2, 3],\n",
       "       [5, 6, 7]])"
      ]
     },
     "execution_count": 59,
     "metadata": {},
     "output_type": "execute_result"
    }
   ],
   "source": [
    "X = np.array([[1, 2 , 3], [5, 6, 7]])\n",
    "X"
   ]
  },
  {
   "cell_type": "code",
   "execution_count": 63,
   "id": "c41e2b16",
   "metadata": {},
   "outputs": [],
   "source": [
    "dfx = pd.DataFrame(X, columns = ['one', 'two', 'three'])"
   ]
  },
  {
   "cell_type": "code",
   "execution_count": 64,
   "id": "7a8ac07c",
   "metadata": {},
   "outputs": [
    {
     "data": {
      "text/html": [
       "<div>\n",
       "<style scoped>\n",
       "    .dataframe tbody tr th:only-of-type {\n",
       "        vertical-align: middle;\n",
       "    }\n",
       "\n",
       "    .dataframe tbody tr th {\n",
       "        vertical-align: top;\n",
       "    }\n",
       "\n",
       "    .dataframe thead th {\n",
       "        text-align: right;\n",
       "    }\n",
       "</style>\n",
       "<table border=\"1\" class=\"dataframe\">\n",
       "  <thead>\n",
       "    <tr style=\"text-align: right;\">\n",
       "      <th></th>\n",
       "      <th>one</th>\n",
       "      <th>two</th>\n",
       "      <th>three</th>\n",
       "    </tr>\n",
       "  </thead>\n",
       "  <tbody>\n",
       "    <tr>\n",
       "      <th>0</th>\n",
       "      <td>1</td>\n",
       "      <td>2</td>\n",
       "      <td>3</td>\n",
       "    </tr>\n",
       "    <tr>\n",
       "      <th>1</th>\n",
       "      <td>5</td>\n",
       "      <td>6</td>\n",
       "      <td>7</td>\n",
       "    </tr>\n",
       "  </tbody>\n",
       "</table>\n",
       "</div>"
      ],
      "text/plain": [
       "   one  two  three\n",
       "0    1    2      3\n",
       "1    5    6      7"
      ]
     },
     "execution_count": 64,
     "metadata": {},
     "output_type": "execute_result"
    }
   ],
   "source": [
    "dfx.head()"
   ]
  },
  {
   "cell_type": "code",
   "execution_count": null,
   "id": "a1bb460f",
   "metadata": {},
   "outputs": [],
   "source": []
  }
 ],
 "metadata": {
  "kernelspec": {
   "display_name": "ml",
   "language": "python",
   "name": "ml"
  },
  "language_info": {
   "codemirror_mode": {
    "name": "ipython",
    "version": 3
   },
   "file_extension": ".py",
   "mimetype": "text/x-python",
   "name": "python",
   "nbconvert_exporter": "python",
   "pygments_lexer": "ipython3",
   "version": "3.9.5"
  }
 },
 "nbformat": 4,
 "nbformat_minor": 5
}
